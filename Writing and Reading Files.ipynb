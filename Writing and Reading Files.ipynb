{
 "cells": [
  {
   "cell_type": "markdown",
   "metadata": {},
   "source": [
    "# Reading and writing files in Python\n",
    "\n",
    "## Files and File paths\n",
    "\n",
    "* A file has two key properties: `a filename` (usually written as one word) and `a path`.\n",
    "* The path specifies the location of a file on the computer.\n",
    "* The part of the filename after the last period is called the file’s extension and tells you a file’s type.\n",
    "* Backslash on Windows and Forward Slash on OS X and Linux\n",
    "\n",
    "Example: /Users/Documents/ProjectX.pdf\n",
    "\n",
    "On Windows, paths are written using backslashes (\\) as the separator between folder names. OS X and Linux, however, use the forward slash (/) as their path separator. If you want your programs to work on all operating systems, you will have to write your Python scripts to handle both cases.\n",
    "\n",
    "Fortunately, this is simple to do with the `os.path.join()` function. If you pass it the string values of individual file and folder names in your path, `os.path.join()` will return a string with a file path using the correct path separators."
   ]
  },
  {
   "cell_type": "code",
   "execution_count": 1,
   "metadata": {},
   "outputs": [
    {
     "data": {
      "text/plain": [
       "'usr/bin/spam'"
      ]
     },
     "execution_count": 1,
     "metadata": {},
     "output_type": "execute_result"
    }
   ],
   "source": [
    "import os\n",
    "os.path.join('usr', 'bin', 'spam')"
   ]
  },
  {
   "cell_type": "markdown",
   "metadata": {},
   "source": [
    "* The `os.path.join()` function is helpful if you need to create strings for filenames. \n",
    "\n",
    "For example, the following example joins names from a list of filenames to the end of a folder’s name:"
   ]
  },
  {
   "cell_type": "code",
   "execution_count": 3,
   "metadata": {},
   "outputs": [
    {
     "name": "stdout",
     "output_type": "stream",
     "text": [
      "/Users/ankitsharma/Documents/Documents/Stuff/Programming/Python 3/100 Python Questions/data/accounts.txt\n",
      "/Users/ankitsharma/Documents/Documents/Stuff/Programming/Python 3/100 Python Questions/data/details.csv\n",
      "/Users/ankitsharma/Documents/Documents/Stuff/Programming/Python 3/100 Python Questions/data/invites.docx\n"
     ]
    }
   ],
   "source": [
    "myFiles = ['accounts.txt', 'details.csv', 'invites.docx']\n",
    "for filename in myFiles:\n",
    "    print(os.path.join('/Users/ankitsharma/Documents/Documents/Stuff/Programming/Python 3/100 Python Questions/data/', filename))"
   ]
  },
  {
   "cell_type": "markdown",
   "metadata": {},
   "source": [
    "### The Current Working Directory\n",
    "\n",
    "\n",
    "Every program that runs on your computer has a current working directory, or cwd. Any filenames or paths that do not begin with the root folder are assumed to be under the current working directory. You can get the current working directory as a string value with the `os.getcwd()` function and change it with `os.chdir()`."
   ]
  },
  {
   "cell_type": "code",
   "execution_count": 4,
   "metadata": {},
   "outputs": [
    {
     "data": {
      "text/plain": [
       "b'/Users/ankitsharma/Documents/Documents/Stuff/Programming/Python 3/100 Python Questions'"
      ]
     },
     "execution_count": 4,
     "metadata": {},
     "output_type": "execute_result"
    }
   ],
   "source": [
    "#prints the current working directory\n",
    "os.getcwdb()"
   ]
  },
  {
   "cell_type": "code",
   "execution_count": 5,
   "metadata": {},
   "outputs": [],
   "source": [
    "#changes the directory\n",
    "os.chdir('/Users/ankitsharma/Documents/Documents/Stuff/Programming/Python 3/')"
   ]
  },
  {
   "cell_type": "code",
   "execution_count": 7,
   "metadata": {},
   "outputs": [
    {
     "data": {
      "text/plain": [
       "'/Users/ankitsharma/Documents/Documents/Stuff/Programming/Python 3'"
      ]
     },
     "execution_count": 7,
     "metadata": {},
     "output_type": "execute_result"
    }
   ],
   "source": [
    "os.getcwd()"
   ]
  },
  {
   "cell_type": "markdown",
   "metadata": {},
   "source": [
    "### Absolute vs. relative path\n",
    "\n",
    "* An *absolute path*, which always begins with the root folder\n",
    "* A *relative path*, which is relative to the program’s current working directory\n",
    "\n",
    "\n",
    "A single period (“dot”) for a folder name is shorthand for “this directory.”\n",
    "\n",
    "Two periods (“dot-dot”) means “the parent folder.”\n",
    "\n",
    "**Creating new folder using `os.makedirs()`**"
   ]
  },
  {
   "cell_type": "code",
   "execution_count": 10,
   "metadata": {},
   "outputs": [],
   "source": [
    "#creates new folder\n",
    "os.makedirs('/Users/ankitsharma/Documents/Documents/Stuff/Programming/Python 3/100 Python Questions/data/waffles')"
   ]
  },
  {
   "cell_type": "markdown",
   "metadata": {},
   "source": [
    "## The os.path() module\n",
    "\n",
    "* The os.path module contains many helpful functions related to filenames and file paths.\n",
    "\n",
    "* Since `os.path` is a module inside the os module, you can import it by simply running import os. \n",
    "\n",
    "Documentation: http://docs.python.org/3/library/os.path.html\n",
    "\n",
    "### Handling absolute and relative path problem\n",
    "\n",
    "The `os.path` module provides functions for returning the absolute path of a relative path and for checking whether a given path is an absolute path.\n",
    "\n",
    "* Calling `os.path.abspath(path)` will return a string of the absolute path of the argument. This is an easy way to convert a relative path into an absolute one.\n",
    "\n",
    "* Calling `os.path.isabs(path)` will return `True` if the argument is an absolute path and `False` if it is a relative path.\n",
    "\n",
    "* Calling `os.path.relpath(path, start)` will return a string of a relative path from the start path to path. If start is not provided, the current working directory is used as the start path."
   ]
  },
  {
   "cell_type": "code",
   "execution_count": 1,
   "metadata": {},
   "outputs": [
    {
     "data": {
      "text/plain": [
       "'/Users/ankitsharma/Documents/Documents/Stuff/Programming/Python 3/100 Python Questions'"
      ]
     },
     "execution_count": 1,
     "metadata": {},
     "output_type": "execute_result"
    }
   ],
   "source": [
    "import os\n",
    "\n",
    "os.path.abspath('.')"
   ]
  },
  {
   "cell_type": "code",
   "execution_count": 3,
   "metadata": {},
   "outputs": [
    {
     "data": {
      "text/plain": [
       "'/Users/ankitsharma/Documents/Documents/Stuff/Programming/Python 3/100 Python Questions/Scripts'"
      ]
     },
     "execution_count": 3,
     "metadata": {},
     "output_type": "execute_result"
    }
   ],
   "source": [
    "os.path.abspath('./Scripts')"
   ]
  },
  {
   "cell_type": "code",
   "execution_count": 4,
   "metadata": {},
   "outputs": [
    {
     "data": {
      "text/plain": [
       "False"
      ]
     },
     "execution_count": 4,
     "metadata": {},
     "output_type": "execute_result"
    }
   ],
   "source": [
    "os.path.isabs('.') #returns false as there is no Scripts directory"
   ]
  },
  {
   "cell_type": "code",
   "execution_count": 5,
   "metadata": {},
   "outputs": [
    {
     "data": {
      "text/plain": [
       "True"
      ]
     },
     "execution_count": 5,
     "metadata": {},
     "output_type": "execute_result"
    }
   ],
   "source": [
    "os.path.isabs(os.path.abspath('.'))"
   ]
  },
  {
   "cell_type": "code",
   "execution_count": 6,
   "metadata": {},
   "outputs": [
    {
     "data": {
      "text/plain": [
       "'100 Python Questions/Scripts'"
      ]
     },
     "execution_count": 6,
     "metadata": {},
     "output_type": "execute_result"
    }
   ],
   "source": [
    "os.path.relpath('/Users/ankitsharma/Documents/Documents/Stuff/Programming/Python 3/100 Python Questions/Scripts', '/Users/ankitsharma/Documents/Documents/Stuff/Programming/Python 3/')"
   ]
  },
  {
   "cell_type": "code",
   "execution_count": 7,
   "metadata": {},
   "outputs": [
    {
     "data": {
      "text/plain": [
       "'/Users/ankitsharma/Documents/Documents/Stuff/Programming/Python 3/100 Python Questions'"
      ]
     },
     "execution_count": 7,
     "metadata": {},
     "output_type": "execute_result"
    }
   ],
   "source": [
    "os.getcwd()"
   ]
  },
  {
   "cell_type": "code",
   "execution_count": 11,
   "metadata": {},
   "outputs": [
    {
     "data": {
      "text/plain": [
       "'data/waffles'"
      ]
     },
     "execution_count": 11,
     "metadata": {},
     "output_type": "execute_result"
    }
   ],
   "source": [
    "os.path.dirname('data/waffles/')"
   ]
  },
  {
   "cell_type": "code",
   "execution_count": null,
   "metadata": {},
   "outputs": [],
   "source": []
  }
 ],
 "metadata": {
  "kernelspec": {
   "display_name": "Python 3",
   "language": "python",
   "name": "python3"
  },
  "language_info": {
   "codemirror_mode": {
    "name": "ipython",
    "version": 3
   },
   "file_extension": ".py",
   "mimetype": "text/x-python",
   "name": "python",
   "nbconvert_exporter": "python",
   "pygments_lexer": "ipython3",
   "version": "3.6.6"
  },
  "toc-autonumbering": false
 },
 "nbformat": 4,
 "nbformat_minor": 2
}
