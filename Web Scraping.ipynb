{
 "cells": [
  {
   "cell_type": "markdown",
   "metadata": {},
   "source": [
    "# Web Scraping\n",
    "\n",
    "`webbrowser` Comes with Python and opens a browser to a specific page.\n",
    "\n",
    "`Requests`Downloads files and web pages from the Internet.\n",
    "\n",
    "`Beautiful Soup` Parses HTML, the format that web pages are written in.\n",
    "\n",
    "`Selenium` Launches and controls a web browser. Selenium is able to fill in forms and simulate mouse clicks in this browser.\n",
    "\n",
    "## Project: mapIt.py with the webbrowser python module\n",
    "\n",
    "* The webbrowser module’s open() function can launch a new browser to a spec- ified URL"
   ]
  },
  {
   "cell_type": "code",
   "execution_count": 1,
   "metadata": {},
   "outputs": [
    {
     "data": {
      "text/plain": [
       "True"
      ]
     },
     "execution_count": 1,
     "metadata": {},
     "output_type": "execute_result"
    }
   ],
   "source": [
    "import webbrowser\n",
    "webbrowser.open('http://inventwithpython.com/')"
   ]
  },
  {
   "cell_type": "markdown",
   "metadata": {},
   "source": [
    "A web browser tab will open to the URL http://inventwithpython.com/.\n",
    "\n",
    "It’s tedious to copy a street address to the clipboard and bring up a map of it on Google Maps. You could take a few steps out of this task by writing a simple script to automatically launch the map in your browser using the contents of your clipboard. This way, you only have to copy the address to a clipboard and run the script, and the map will be loaded for you."
   ]
  },
  {
   "cell_type": "markdown",
   "metadata": {},
   "source": [
    "This is what your program does:\n",
    "\n",
    "* Gets a street address from the command line arguments or clipboard.\n",
    "* Opens the web browser to the Google Maps page for the address. This means your code will need to do the following:\n",
    "* Read the command line arguments from sys.argv.\n",
    "* Read the clipboard contents.\n",
    "* Call the webbrowser.open() function to open the web browser.\n",
    "\n",
    "Open a new file editor window and save it as mapIt.py."
   ]
  },
  {
   "cell_type": "code",
   "execution_count": null,
   "metadata": {},
   "outputs": [],
   "source": [
    "#Either from command line argument or fromt the clipboard. Address will be parsed accordingly\n",
    "\n",
    "#!python3\n",
    "# mapIt function launches a browser using address from the command line or the clipboard\n",
    "\n",
    "import webbrowser, sys\n",
    "\n",
    "if len(sys.argv) > 1:\n",
    "    #Get address from the command line\n",
    "    address = ' '.join(sys.argv[1:])\n",
    "    \n",
    "#Get address from clipboard"
   ]
  }
 ],
 "metadata": {
  "kernelspec": {
   "display_name": "Python 3",
   "language": "python",
   "name": "python3"
  },
  "language_info": {
   "codemirror_mode": {
    "name": "ipython",
    "version": 3
   },
   "file_extension": ".py",
   "mimetype": "text/x-python",
   "name": "python",
   "nbconvert_exporter": "python",
   "pygments_lexer": "ipython3",
   "version": "3.6.6"
  }
 },
 "nbformat": 4,
 "nbformat_minor": 2
}
